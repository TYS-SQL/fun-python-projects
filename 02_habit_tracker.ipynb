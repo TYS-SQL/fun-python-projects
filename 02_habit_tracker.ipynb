{
  "nbformat": 4,
  "nbformat_minor": 0,
  "metadata": {
    "colab": {
      "provenance": [],
      "authorship_tag": "ABX9TyPWJC58rHGYiaAB4/VIMRTe",
      "include_colab_link": true
    },
    "kernelspec": {
      "name": "python3",
      "display_name": "Python 3"
    },
    "language_info": {
      "name": "python"
    }
  },
  "cells": [
    {
      "cell_type": "markdown",
      "metadata": {
        "id": "view-in-github",
        "colab_type": "text"
      },
      "source": [
        "<a href=\"https://colab.research.google.com/github/TYS-SQL/fun-python-projects/blob/main/02_habit_tracker.ipynb\" target=\"_parent\"><img src=\"https://colab.research.google.com/assets/colab-badge.svg\" alt=\"Open In Colab\"/></a>"
      ]
    },
    {
      "cell_type": "code",
      "execution_count": null,
      "metadata": {
        "id": "apQ20zpid8fl"
      },
      "outputs": [],
      "source": [
        "# 🗓️ Simple Habit Tracker\n",
        "\n",
        "print(\"Welcome to your Habit Tracker!\")\n",
        "\n",
        "habit = input(\"What habit do you want to track? \").strip().lower()\n",
        "\n",
        "# For demo, we'll just simulate last streak days\n",
        "last_streak = 3\n",
        "\n",
        "print(f\"Your current streak for '{habit}' is {last_streak} days.\")\n",
        "\n",
        "done_today = input(f\"Did you do '{habit}' today? (yes/no): \").strip().lower()\n",
        "\n",
        "if done_today == \"yes\":\n",
        "    last_streak += 1\n",
        "    print(f\"Great! Your new streak is {last_streak} days. Keep going!\")\n",
        "else:\n",
        "    last_streak = 0\n",
        "    print(f\"Don’t worry! Your streak resets to {last_streak}. Start again tomorrow!\")\n",
        "\n",
        "print(\"Keep up the good work! 💪\")\n"
      ]
    }
  ]
}