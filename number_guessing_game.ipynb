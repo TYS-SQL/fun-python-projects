{
  "nbformat": 4,
  "nbformat_minor": 0,
  "metadata": {
    "colab": {
      "provenance": [],
      "authorship_tag": "ABX9TyO6io2NSdjSPr53oPMEkLgS",
      "include_colab_link": true
    },
    "kernelspec": {
      "name": "python3",
      "display_name": "Python 3"
    },
    "language_info": {
      "name": "python"
    }
  },
  "cells": [
    {
      "cell_type": "markdown",
      "metadata": {
        "id": "view-in-github",
        "colab_type": "text"
      },
      "source": [
        "<a href=\"https://colab.research.google.com/github/TYS-SQL/fun-python-projects/blob/main/number_guessing_game.ipynb\" target=\"_parent\"><img src=\"https://colab.research.google.com/assets/colab-badge.svg\" alt=\"Open In Colab\"/></a>"
      ]
    },
    {
      "cell_type": "code",
      "execution_count": null,
      "metadata": {
        "id": "OcSZqyK7kDpR"
      },
      "outputs": [],
      "source": [
        "# To use interactive widgets in Colab\n",
        "from IPython.display import display\n",
        "import ipywidgets as widgets\n",
        "\n",
        "def get_integer_input(prompt):\n",
        "    input_box = widgets.Text(description=prompt)\n",
        "    display(input_box)\n",
        "\n",
        "    input_done = widgets.Button(description=\"Submit\")\n",
        "    display(input_done)\n",
        "\n",
        "    input_data = {'value': None}\n",
        "\n",
        "    def on_click(btn):\n",
        "        try:\n",
        "            input_data['value'] = int(input_box.value)\n",
        "        except:\n",
        "            input_data['value'] = None\n",
        "\n",
        "    input_done.on_click(on_click)\n",
        "\n",
        "    while input_data['value'] is None:\n",
        "        pass  # Wait for valid input\n",
        "\n",
        "    return input_data['value']\n"
      ]
    }
  ]
}