{
  "nbformat": 4,
  "nbformat_minor": 0,
  "metadata": {
    "colab": {
      "provenance": [],
      "authorship_tag": "ABX9TyNPz4TC6v/EJxYOXN/NLar3",
      "include_colab_link": true
    },
    "kernelspec": {
      "name": "python3",
      "display_name": "Python 3"
    },
    "language_info": {
      "name": "python"
    }
  },
  "cells": [
    {
      "cell_type": "markdown",
      "metadata": {
        "id": "view-in-github",
        "colab_type": "text"
      },
      "source": [
        "<a href=\"https://colab.research.google.com/github/TYS-SQL/fun-python-projects/blob/main/number_guessing_game.ipynb\" target=\"_parent\"><img src=\"https://colab.research.google.com/assets/colab-badge.svg\" alt=\"Open In Colab\"/></a>"
      ]
    },
    {
      "cell_type": "code",
      "execution_count": 3,
      "metadata": {
        "id": "OcSZqyK7kDpR"
      },
      "outputs": [],
      "source": [
        "# 🧠 Number Guessing Game\n",
        "import random\n",
        "\n",
        "def play_game():\n",
        "    number_to_guess = random.randint(1, 100)\n",
        "    attempts_allowed = 7\n",
        "    attempts = 0\n",
        "\n",
        "    print(\"🎮 Welcome to the Number Guessing Game!\")\n",
        "    print(\"I'm thinking of a number between 1 and 100.\")\n",
        "    print(f\"You have {attempts_allowed} tries to guess it.\")\n",
        "\n",
        "    while attempts < attempts_allowed:\n",
        "        try:\n",
        "            guess = int(input(f\"Attempt {attempts + 1}: Enter your guess: \"))\n",
        "        except ValueError:\n",
        "            print(\"❌ Please enter a valid integer.\")\n",
        "            continue\n",
        "\n",
        "        attempts += 1\n",
        "\n",
        "        if guess < number_to_guess:\n",
        "            print(\"🔽 Too low!\")\n",
        "        elif guess > number_to_guess:\n",
        "            print(\"🔼 Too high!\")\n",
        "        else:\n",
        "            print(f\"🎉 Congratulations! You guessed it in {attempts} attempts.\")\n",
        "            break\n",
        "    else:\n",
        "        print(f\"😢 Sorry, you've used all {attempts_allowed} attempts.\")\n",
        "        print(f\"The correct number was: {number_to_guess}\")\n",
        "\n",
        "def main():\n",
        "    while True:\n",
        "        play_game()\n",
        "        again = input(\"🔁 Do you want to play again? (yes/no): \").strip().lower()\n",
        "        if again not in ['yes', 'y']:\n",
        "            print(\"👋 Thanks for playing! Goodbye.\")\n",
        "            break\n",
        "\n",
        "main()"
      ]
    }
  ]
}
