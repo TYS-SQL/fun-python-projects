{
  "nbformat": 4,
  "nbformat_minor": 0,
  "metadata": {
    "colab": {
      "provenance": [],
      "authorship_tag": "ABX9TyPxG2gF0Oix3npVgFd91mPQ",
      "include_colab_link": true
    },
    "kernelspec": {
      "name": "python3",
      "display_name": "Python 3"
    },
    "language_info": {
      "name": "python"
    }
  },
  "cells": [
    {
      "cell_type": "markdown",
      "metadata": {
        "id": "view-in-github",
        "colab_type": "text"
      },
      "source": [
        "<a href=\"https://colab.research.google.com/github/TYS-SQL/fun-python-projects/blob/main/01_movie_recommendation.ipynb\" target=\"_parent\"><img src=\"https://colab.research.google.com/assets/colab-badge.svg\" alt=\"Open In Colab\"/></a>"
      ]
    },
    {
      "cell_type": "code",
      "execution_count": null,
      "metadata": {
        "id": "mioe3n3HYihR"
      },
      "outputs": [],
      "source": [
        "# 🎬 Simple Movie Recommendation Tool\n",
        "\n",
        "print(\"🎥 Welcome to the Movie Recommendation App!\")\n",
        "\n",
        "# Step 1: Create a dictionary of movie genres\n",
        "movies_by_genre = {\n",
        "    \"action\": [\"Mad Max: Fury Road\", \"John Wick\", \"The Dark Knight\"],\n",
        "    \"comedy\": [\"The Hangover\", \"Superbad\", \"Zindagi Na Milegi Dobara\"],\n",
        "    \"drama\": [\"The Shawshank Redemption\", \"The Pursuit of Happyness\", \"Tamasha\"],\n",
        "    \"sci-fi\": [\"Inception\", \"Interstellar\", \"The Matrix\"],\n",
        "    \"romance\": [\"The Notebook\", \"La La Land\", \"Jab We Met\"]\n",
        "}\n",
        "\n",
        "# Step 2: Ask user what genre they like\n",
        "user_genre = input(\"What type of movie are you in the mood for? (action, comedy, drama, sci-fi, romance): \").lower()\n",
        "\n",
        "# Step 3: Recommend a movie\n",
        "if user_genre in movies_by_genre:\n",
        "    from random import choice\n",
        "    recommendation = choice(movies_by_genre[user_genre])\n",
        "    print(f\"\\n🎬 You might enjoy: **{recommendation}**\")\n",
        "else:\n",
        "    print(\"\\n😕 Sorry, we don't have recommendations for that genre.\")\n"
      ]
    }
  ]
}