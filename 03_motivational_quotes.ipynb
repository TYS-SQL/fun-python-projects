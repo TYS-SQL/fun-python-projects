{
  "nbformat": 4,
  "nbformat_minor": 0,
  "metadata": {
    "colab": {
      "provenance": [],
      "authorship_tag": "ABX9TyP0NDErMu+LGaT3XG9GpOP+",
      "include_colab_link": true
    },
    "kernelspec": {
      "name": "python3",
      "display_name": "Python 3"
    },
    "language_info": {
      "name": "python"
    }
  },
  "cells": [
    {
      "cell_type": "markdown",
      "metadata": {
        "id": "view-in-github",
        "colab_type": "text"
      },
      "source": [
        "<a href=\"https://colab.research.google.com/github/TYS-SQL/fun-python-projects/blob/main/03_motivational_quotes.ipynb\" target=\"_parent\"><img src=\"https://colab.research.google.com/assets/colab-badge.svg\" alt=\"Open In Colab\"/></a>"
      ]
    },
    {
      "cell_type": "code",
      "execution_count": null,
      "metadata": {
        "id": "LsHwA_fuea-f"
      },
      "outputs": [],
      "source": [
        "# 💡 Motivational Quote Generator\n",
        "\n",
        "import random\n",
        "\n",
        "quotes = [\n",
        "    \"Believe you can and you're halfway there. – Theodore Roosevelt\",\n",
        "    \"Keep going. Be all in. – Bryan Hutchinson\",\n",
        "    \"The harder you work for something, the greater you'll feel when you achieve it.\",\n",
        "    \"Don't watch the clock; do what it does. Keep going. – Sam Levenson\",\n",
        "    \"Success is not in what you have, but who you are. – Bo Bennett\"\n",
        "]\n",
        "\n",
        "print(\"Here’s your motivational quote for today:\\n\")\n",
        "print(random.choice(quotes))"
      ]
    }
  ]
}